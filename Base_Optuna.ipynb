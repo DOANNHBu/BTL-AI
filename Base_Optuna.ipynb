{
 "cells": [
  {
   "cell_type": "code",
   "execution_count": 1,
   "metadata": {},
   "outputs": [
    {
     "name": "stdout",
     "output_type": "stream",
     "text": [
      "Label counts:\n",
      "Label\n",
      "0    204368\n",
      "1     34767\n",
      "Name: count, dtype: int64\n",
      "<class 'pandas.core.frame.DataFrame'>\n",
      "RangeIndex: 239135 entries, 0 to 239134\n",
      "Data columns (total 21 columns):\n",
      " #   Column  Non-Null Count   Dtype  \n",
      "---  ------  --------------   -----  \n",
      " 0   row     239135 non-null  int64  \n",
      " 1   col     239135 non-null  int64  \n",
      " 2   year    239135 non-null  int64  \n",
      " 3   month   239135 non-null  int64  \n",
      " 4   day     239135 non-null  int64  \n",
      " 5   hour    239135 non-null  int64  \n",
      " 6   B04B    239135 non-null  float64\n",
      " 7   B05B    239135 non-null  float64\n",
      " 8   B06B    239135 non-null  float64\n",
      " 9   B09B    239135 non-null  float64\n",
      " 10  B10B    239135 non-null  float64\n",
      " 11  B11B    239135 non-null  float64\n",
      " 12  B12B    239135 non-null  float64\n",
      " 13  B14B    239135 non-null  float64\n",
      " 14  B16B    239135 non-null  float64\n",
      " 15  I2B     239135 non-null  float64\n",
      " 16  I4B     239135 non-null  float64\n",
      " 17  IRB     239135 non-null  float64\n",
      " 18  VSB     239135 non-null  float64\n",
      " 19  WVB     239135 non-null  float64\n",
      " 20  Label   239135 non-null  int64  \n",
      "dtypes: float64(14), int64(7)\n",
      "memory usage: 38.3 MB\n"
     ]
    }
   ],
   "source": [
    "import pandas as pd\n",
    "import os\n",
    "\n",
    "# Load the dataset\n",
    "file_path = 'D:\\\\1 code AI'\n",
    "file_names = ['new_data_v1.csv']\n",
    "datasets = [pd.read_csv(os.path.join(file_path, file)) for file in file_names]\n",
    "dataset = pd.concat(datasets, ignore_index=True)\n",
    "\n",
    "# Count the number of labels 0 and 1\n",
    "label_counts = dataset['Label'].value_counts()\n",
    "print(\"Label counts:\")\n",
    "print(label_counts)\n",
    "\n",
    "dataset.info()\n"
   ]
  },
  {
   "cell_type": "code",
   "execution_count": 2,
   "metadata": {},
   "outputs": [
    {
     "name": "stdout",
     "output_type": "stream",
     "text": [
      "       B04B      B05B      B06B       B09B       B10B       B11B       B12B  \\\n",
      "0  0.084788  0.053601  0.030115  253.87752  261.63812  281.48710  260.33334   \n",
      "1  0.129801  0.103687  0.064551  253.48486  261.10180  279.65836  259.01260   \n",
      "2  0.088053  0.074731  0.043408  253.62572  261.10180  281.48782  260.33664   \n",
      "3  0.085429  0.070825  0.040283  253.06673  261.10593  280.73180  259.73105   \n",
      "4  0.099121  0.091174  0.057520  252.52501  260.70062  280.29822  259.61038   \n",
      "\n",
      "        B14B       B16B        I2B        I4B        IRB       VSB        WVB  \n",
      "0  285.00070  269.99298  281.76694  286.36456  285.24005  0.070424  244.27534  \n",
      "1  282.17892  268.44498  279.95640  286.18780  282.48993  0.099792  244.05240  \n",
      "2  284.34457  269.33520  281.68080  286.60724  284.50903  0.070424  243.55762  \n",
      "3  283.88354  269.33356  280.94617  285.77060  284.15130  0.074331  243.33647  \n",
      "4  283.85870  268.99704  280.34543  287.78340  284.39117  0.082174  242.84953  \n",
      "<class 'pandas.core.frame.DataFrame'>\n",
      "RangeIndex: 239135 entries, 0 to 239134\n",
      "Data columns (total 14 columns):\n",
      " #   Column  Non-Null Count   Dtype  \n",
      "---  ------  --------------   -----  \n",
      " 0   B04B    239135 non-null  float64\n",
      " 1   B05B    239135 non-null  float64\n",
      " 2   B06B    239135 non-null  float64\n",
      " 3   B09B    239135 non-null  float64\n",
      " 4   B10B    239135 non-null  float64\n",
      " 5   B11B    239135 non-null  float64\n",
      " 6   B12B    239135 non-null  float64\n",
      " 7   B14B    239135 non-null  float64\n",
      " 8   B16B    239135 non-null  float64\n",
      " 9   I2B     239135 non-null  float64\n",
      " 10  I4B     239135 non-null  float64\n",
      " 11  IRB     239135 non-null  float64\n",
      " 12  VSB     239135 non-null  float64\n",
      " 13  WVB     239135 non-null  float64\n",
      "dtypes: float64(14)\n",
      "memory usage: 25.5 MB\n",
      "None\n",
      "0    0\n",
      "1    0\n",
      "2    0\n",
      "3    0\n",
      "4    0\n",
      "Name: Label, dtype: int64\n",
      "Label\n",
      "0    204368\n",
      "1     34767\n",
      "Name: count, dtype: int64\n"
     ]
    }
   ],
   "source": [
    "from sklearn.model_selection import train_test_split\n",
    "\n",
    "# Check if columns exist before dropping\n",
    "columns_drop = [\"Label\", \"row\", \"col\", \"year\", \"month\", \"day\", \"hour\"]\n",
    "existing_columns_to_drop = [col for col in columns_drop if col in dataset.columns]\n",
    "\n",
    "X = dataset.drop(columns=existing_columns_to_drop)\n",
    "y = dataset[\"Label\"]\n",
    "\n",
    "print(X.head())\n",
    "print(X.info())\n",
    "print(y.head())\n",
    "print(y.value_counts())"
   ]
  },
  {
   "cell_type": "code",
   "execution_count": 3,
   "metadata": {},
   "outputs": [
    {
     "name": "stdout",
     "output_type": "stream",
     "text": [
      "Training set size: 191308\n",
      "Test set size: 47827\n",
      "Training set label distribution:\n",
      "Label\n",
      "0    163509\n",
      "1     27799\n",
      "Name: count, dtype: int64\n",
      "Test set label distribution:\n",
      "Label\n",
      "0    40859\n",
      "1     6968\n",
      "Name: count, dtype: int64\n"
     ]
    }
   ],
   "source": [
    "# Split the data into train (80%) and test (20%)\n",
    "X_train, X_test, y_train, y_test = train_test_split(X, y, test_size=0.2, random_state=42)\n",
    "\n",
    "print(f\"Training set size: {len(X_train)}\")\n",
    "print(f\"Test set size: {len(X_test)}\")\n",
    "\n",
    "print(\"Training set label distribution:\")\n",
    "print(y_train.value_counts())\n",
    "print(\"Test set label distribution:\")\n",
    "print(y_test.value_counts())\n"
   ]
  },
  {
   "cell_type": "code",
   "execution_count": null,
   "metadata": {},
   "outputs": [
    {
     "ename": "SyntaxError",
     "evalue": "positional argument follows keyword argument (846578726.py, line 28)",
     "output_type": "error",
     "traceback": [
      "\u001b[1;36m  Cell \u001b[1;32mIn[1], line 28\u001b[1;36m\u001b[0m\n\u001b[1;33m    cv = StratifiedKFold(n_splits=5, shuf, random_state=42)\u001b[0m\n\u001b[1;37m                                                          ^\u001b[0m\n\u001b[1;31mSyntaxError\u001b[0m\u001b[1;31m:\u001b[0m positional argument follows keyword argument\n"
     ]
    }
   ],
   "source": [
    "import optuna\n",
    "from sklearn.model_selection import StratifiedKFold\n",
    "from sklearn.ensemble import RandomForestClassifier\n",
    "from sklearn.model_selection import cross_val_score\n",
    "\n",
    "def objective(trial):\n",
    "    # Hyperparameter suggestions\n",
    "    n_estimators = trial.suggest_int('n_estimators', 50, 600 )\n",
    "    max_depth = trial.suggest_categorical('max_depth', [None, 10, 100 , 50])\n",
    "    min_samples_split = trial.suggest_int('min_samples_split', 2, 20)\n",
    "    min_samples_leaf = trial.suggest_int('min_samples_leaf', 1, 20)\n",
    "    max_features = trial.suggest_categorical('max_features', ['sqrt', 'log2', None])\n",
    "    class_weight = trial.suggest_categorical('class_weight', ['balanced', 'balanced_subsample'])\n",
    "    \n",
    "    # Initialize the RandomForestClassifier with the suggested hyperparameters\n",
    "    model = RandomForestClassifier(\n",
    "        n_estimators=n_estimators,\n",
    "        max_depth=max_depth,\n",
    "        min_samples_split=min_samples_split,\n",
    "        min_samples_leaf=min_samples_leaf,\n",
    "        max_features=max_features,\n",
    "        class_weight=class_weight,\n",
    "        random_state=42,\n",
    "        n_jobs=-1\n",
    "    )\n",
    "    \n",
    "    # Use RepeatedStratifiedKFold for cross-validation\n",
    "    cv = StratifiedKFold(n_splits=5, shuffle=True, random_state=42)\n",
    "    \n",
    "    # Perform cross-validation and calculate F1 score for each fold\n",
    "    score = cross_val_score(model, X, y, scoring='f1', cv=cv, n_jobs=-1).mean()\n",
    "    \n",
    "    return score\n",
    "\n",
    "# Create the study object and optimize\n",
    "study = optuna.create_study(direction='maximize')\n",
    "study.optimize(objective, n_trials=30)\n",
    "\n",
    "# Output the best hyperparameters and best score\n",
    "print(\"Best hyperparameters:\", study.best_params)\n",
    "print(\"Best F1 score:\", study.best_value)\n"
   ]
  },
  {
   "cell_type": "code",
   "execution_count": null,
   "metadata": {},
   "outputs": [],
   "source": []
  }
 ],
 "metadata": {
  "kernelspec": {
   "display_name": "AI",
   "language": "python",
   "name": "python3"
  },
  "language_info": {
   "codemirror_mode": {
    "name": "ipython",
    "version": 3
   },
   "file_extension": ".py",
   "mimetype": "text/x-python",
   "name": "python",
   "nbconvert_exporter": "python",
   "pygments_lexer": "ipython3",
   "version": "3.9.20"
  }
 },
 "nbformat": 4,
 "nbformat_minor": 2
}
