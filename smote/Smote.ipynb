{
 "cells": [
  {
   "cell_type": "code",
   "execution_count": 1,
   "metadata": {},
   "outputs": [
    {
     "name": "stdout",
     "output_type": "stream",
     "text": [
      "Label counts:\n",
      "Label\n",
      "0    204368\n",
      "1     34767\n",
      "Name: count, dtype: int64\n",
      "<class 'pandas.core.frame.DataFrame'>\n",
      "RangeIndex: 239135 entries, 0 to 239134\n",
      "Data columns (total 21 columns):\n",
      " #   Column  Non-Null Count   Dtype  \n",
      "---  ------  --------------   -----  \n",
      " 0   row     239135 non-null  int64  \n",
      " 1   col     239135 non-null  int64  \n",
      " 2   year    239135 non-null  int64  \n",
      " 3   month   239135 non-null  int64  \n",
      " 4   day     239135 non-null  int64  \n",
      " 5   hour    239135 non-null  int64  \n",
      " 6   B04B    239135 non-null  float64\n",
      " 7   B05B    239135 non-null  float64\n",
      " 8   B06B    239135 non-null  float64\n",
      " 9   B09B    239135 non-null  float64\n",
      " 10  B10B    239135 non-null  float64\n",
      " 11  B11B    239135 non-null  float64\n",
      " 12  B12B    239135 non-null  float64\n",
      " 13  B14B    239135 non-null  float64\n",
      " 14  B16B    239135 non-null  float64\n",
      " 15  I2B     239135 non-null  float64\n",
      " 16  I4B     239135 non-null  float64\n",
      " 17  IRB     239135 non-null  float64\n",
      " 18  VSB     239135 non-null  float64\n",
      " 19  WVB     239135 non-null  float64\n",
      " 20  Label   239135 non-null  int64  \n",
      "dtypes: float64(14), int64(7)\n",
      "memory usage: 38.3 MB\n"
     ]
    }
   ],
   "source": [
    "import pandas as pd\n",
    "import os\n",
    "\n",
    "# Load the dataset\n",
    "file_path = 'D:\\\\1 code AI'\n",
    "file_names = ['new_data_v1.csv']\n",
    "datasets = [pd.read_csv(os.path.join(file_path, file)) for file in file_names]\n",
    "dataset = pd.concat(datasets, ignore_index=True)\n",
    "\n",
    "# Count the number of labels 0 and 1\n",
    "label_counts = dataset['Label'].value_counts()\n",
    "print(\"Label counts:\")\n",
    "print(label_counts)\n",
    "\n",
    "dataset.info()\n"
   ]
  },
  {
   "cell_type": "code",
   "execution_count": 2,
   "metadata": {},
   "outputs": [
    {
     "name": "stdout",
     "output_type": "stream",
     "text": [
      "   row  col      B04B      B05B      B06B       B09B       B10B       B11B  \\\n",
      "0    0  114  0.084788  0.053601  0.030115  253.87752  261.63812  281.48710   \n",
      "1    0  116  0.129801  0.103687  0.064551  253.48486  261.10180  279.65836   \n",
      "2    0  118  0.088053  0.074731  0.043408  253.62572  261.10180  281.48782   \n",
      "3    0  119  0.085429  0.070825  0.040283  253.06673  261.10593  280.73180   \n",
      "4    0  122  0.099121  0.091174  0.057520  252.52501  260.70062  280.29822   \n",
      "\n",
      "        B12B       B14B       B16B        I2B        I4B        IRB       VSB  \\\n",
      "0  260.33334  285.00070  269.99298  281.76694  286.36456  285.24005  0.070424   \n",
      "1  259.01260  282.17892  268.44498  279.95640  286.18780  282.48993  0.099792   \n",
      "2  260.33664  284.34457  269.33520  281.68080  286.60724  284.50903  0.070424   \n",
      "3  259.73105  283.88354  269.33356  280.94617  285.77060  284.15130  0.074331   \n",
      "4  259.61038  283.85870  268.99704  280.34543  287.78340  284.39117  0.082174   \n",
      "\n",
      "         WVB  \n",
      "0  244.27534  \n",
      "1  244.05240  \n",
      "2  243.55762  \n",
      "3  243.33647  \n",
      "4  242.84953  \n",
      "<class 'pandas.core.frame.DataFrame'>\n",
      "RangeIndex: 239135 entries, 0 to 239134\n",
      "Data columns (total 16 columns):\n",
      " #   Column  Non-Null Count   Dtype  \n",
      "---  ------  --------------   -----  \n",
      " 0   row     239135 non-null  int64  \n",
      " 1   col     239135 non-null  int64  \n",
      " 2   B04B    239135 non-null  float64\n",
      " 3   B05B    239135 non-null  float64\n",
      " 4   B06B    239135 non-null  float64\n",
      " 5   B09B    239135 non-null  float64\n",
      " 6   B10B    239135 non-null  float64\n",
      " 7   B11B    239135 non-null  float64\n",
      " 8   B12B    239135 non-null  float64\n",
      " 9   B14B    239135 non-null  float64\n",
      " 10  B16B    239135 non-null  float64\n",
      " 11  I2B     239135 non-null  float64\n",
      " 12  I4B     239135 non-null  float64\n",
      " 13  IRB     239135 non-null  float64\n",
      " 14  VSB     239135 non-null  float64\n",
      " 15  WVB     239135 non-null  float64\n",
      "dtypes: float64(14), int64(2)\n",
      "memory usage: 29.2 MB\n",
      "None\n",
      "0    0\n",
      "1    0\n",
      "2    0\n",
      "3    0\n",
      "4    0\n",
      "Name: Label, dtype: int64\n",
      "Label\n",
      "0    204368\n",
      "1     34767\n",
      "Name: count, dtype: int64\n"
     ]
    }
   ],
   "source": [
    "from sklearn.model_selection import train_test_split\n",
    "\n",
    "# Check if columns exist before dropping\n",
    "columns_drop = [\"Label\", \"year\", \"month\", \"day\", \"hour\"]\n",
    "existing_columns_to_drop = [col for col in columns_drop if col in dataset.columns]\n",
    "\n",
    "X = dataset.drop(columns=existing_columns_to_drop)\n",
    "y = dataset[\"Label\"]\n",
    "\n",
    "print(X.head())\n",
    "print(X.info())\n",
    "print(y.head())\n",
    "print(y.value_counts())"
   ]
  },
  {
   "cell_type": "code",
   "execution_count": 3,
   "metadata": {},
   "outputs": [
    {
     "name": "stdout",
     "output_type": "stream",
     "text": [
      "Training set size: 191308\n",
      "Test set size: 47827\n",
      "Training set label distribution:\n",
      "Label\n",
      "0    163494\n",
      "1     27814\n",
      "Name: count, dtype: int64\n",
      "Test set label distribution:\n",
      "Label\n",
      "0    40874\n",
      "1     6953\n",
      "Name: count, dtype: int64\n"
     ]
    }
   ],
   "source": [
    "# Split the data into train (80%) and test (20%)\n",
    "X_train, X_test, y_train, y_test = train_test_split(X, y, test_size=0.2, random_state=42, stratify=y)\n",
    "\n",
    "print(f\"Training set size: {len(X_train)}\")\n",
    "print(f\"Test set size: {len(X_test)}\")\n",
    "\n",
    "print(\"Training set label distribution:\")\n",
    "print(y_train.value_counts())\n",
    "print(\"Test set label distribution:\")\n",
    "print(y_test.value_counts())\n"
   ]
  },
  {
   "cell_type": "code",
   "execution_count": 5,
   "metadata": {},
   "outputs": [
    {
     "name": "stdout",
     "output_type": "stream",
     "text": [
      "Classification Report:\n",
      "Cross-validation scores:\n",
      "[0.73427452 0.72763274 0.71683787 0.72185235 0.7239182 ]\n",
      "Mean cross-validation score: 0.7249031350656835\n",
      "              precision    recall  f1-score   support\n",
      "\n",
      "           0       0.95      0.94      0.95     40874\n",
      "           1       0.68      0.74      0.71      6953\n",
      "\n",
      "    accuracy                           0.91     47827\n",
      "   macro avg       0.82      0.84      0.83     47827\n",
      "weighted avg       0.91      0.91      0.91     47827\n",
      "\n"
     ]
    }
   ],
   "source": [
    "import pandas as pd\n",
    "from sklearn.model_selection import train_test_split\n",
    "from sklearn.ensemble import RandomForestClassifier\n",
    "from imblearn.over_sampling import SMOTE\n",
    "from sklearn.metrics import classification_report, confusion_matrix\n",
    "from sklearn.model_selection import StratifiedKFold, cross_val_score\n",
    "\n",
    "\n",
    "baserf = RandomForestClassifier(n_estimators=536, max_depth=50, min_samples_split=4, min_samples_leaf=4, max_features='log2', class_weight='balanced',random_state=42, n_jobs=-1)\n",
    "# Apply SMOTE to the training data\n",
    "smote = SMOTE(sampling_strategy=0.2, random_state=42)\n",
    "X_train_res, y_train_res = smote.fit_resample(X_train, y_train)\n",
    "\n",
    "# Train the RandomForestClassifier on the resampled training data\n",
    "baserf.fit(X_train_res, y_train_res)\n",
    "\n",
    "# Make predictions on the test data\n",
    "y_pred = baserf.predict(X_test)\n",
    "\n",
    "# Evaluate the model\n",
    "print(\"Classification Report:\")\n",
    "# Define the RepeatedStratifiedKFold\n",
    "skf = StratifiedKFold(n_splits=5,shuffle=True , random_state=42)\n",
    "\n",
    "# Evaluate the model using cross-validation\n",
    "cv_scores = cross_val_score(baserf, X_train_res, y_train_res, cv=skf, scoring='f1', n_jobs=8)\n",
    "\n",
    "print(\"Cross-validation scores:\")\n",
    "print(cv_scores)\n",
    "print(\"Mean cross-validation score:\", cv_scores.mean())\n",
    "print(classification_report(y_test, y_pred))\n"
   ]
  },
  {
   "cell_type": "code",
   "execution_count": 8,
   "metadata": {},
   "outputs": [
    {
     "name": "stdout",
     "output_type": "stream",
     "text": [
      "Confusion Matrix:\n",
      "[[39413  1446]\n",
      " [ 2775  4193]]\n",
      "Confusion Matrix:\n",
      " [[39413  1446]\n",
      " [ 2775  4193]]\n"
     ]
    },
    {
     "data": {
      "image/png": "[encoded data removed]",
      "text/plain": [
       "<Figure size 600x500 with 2 Axes>"
      ]
     },
     "metadata": {},
     "output_type": "display_data"
    }
   ],
   "source": [
    "from sklearn.metrics import confusion_matrix\n",
    "\n",
    "print(\"Confusion Matrix:\")\n",
    "print(confusion_matrix(y_test, y_pred))\n",
    "\n",
    "\n",
    "import seaborn as sns\n",
    "import matplotlib.pyplot as plt\n",
    "\n",
    "cm = confusion_matrix(y_test, y_pred)\n",
    "print(\"Confusion Matrix:\\n\", confusion_matrix(y_test, y_pred))\n",
    "\n",
    "# Plot the confusion matrix as a heatmap\n",
    "plt.figure(figsize=(6, 5))\n",
    "sns.heatmap(cm, annot=True, fmt=\"d\", cmap=\"Blues\", xticklabels=['No Rain', 'Rain'], yticklabels=['No Rain', 'Rain'])\n",
    "plt.xlabel('Predicted Label')\n",
    "plt.ylabel('True Label')\n",
    "plt.title('Confusion Matrix')\n",
    "plt.show()"
   ]
  }
 ],
 "metadata": {
  "kernelspec": {
   "display_name": "AI",
   "language": "python",
   "name": "python3"
  },
  "language_info": {
   "codemirror_mode": {
    "name": "ipython",
    "version": 3
   },
   "file_extension": ".py",
   "mimetype": "text/x-python",
   "name": "python",
   "nbconvert_exporter": "python",
   "pygments_lexer": "ipython3",
   "version": "3.9.20"
  }
 },
 "nbformat": 4,
 "nbformat_minor": 2
}
